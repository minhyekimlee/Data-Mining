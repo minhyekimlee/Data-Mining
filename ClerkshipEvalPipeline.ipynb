{
 "cells": [
  {
   "cell_type": "markdown",
   "id": "025e665a",
   "metadata": {},
   "source": [
    "### Input required: Update information"
   ]
  },
  {
   "cell_type": "markdown",
   "id": "9a9aac06",
   "metadata": {},
   "source": [
    "#### Select columns (exclusive: When start is 1 and end is 5, the applicable range will be 2-4.)\n",
    "Note: quotation marks should be included. Change values inside of the quotes."
   ]
  },
  {
   "cell_type": "code",
   "execution_count": 1,
   "id": "ad99b8a5",
   "metadata": {},
   "outputs": [],
   "source": [
    "start = 'Q1.2'\n",
    "end = 'Q3.1'"
   ]
  },
  {
   "cell_type": "markdown",
   "id": "9bbee1fa",
   "metadata": {},
   "source": [
    "#### Fill in correct texts for each column.\n",
    "Note: quotation marks should be included. Change values inside of the quotes."
   ]
  },
  {
   "cell_type": "code",
   "execution_count": 2,
   "id": "ee3cbd77",
   "metadata": {},
   "outputs": [],
   "source": [
    "AY = '2022-2023'\n",
    "CO = 'c/o 2024'\n",
    "Clerks = 'Psychiatry'"
   ]
  },
  {
   "cell_type": "markdown",
   "id": "7a6b0f7d",
   "metadata": {},
   "source": [
    "#### Input a total number of questions/columns per site (for loop purposes). Count all qualitative questions as well.\n",
    "For example, in this case, we have a total of 43 questions, but will have only 29 quantitiave questions printed in the end."
   ]
  },
  {
   "cell_type": "code",
   "execution_count": 3,
   "id": "274b5c2c",
   "metadata": {},
   "outputs": [],
   "source": [
    "set_n = 43"
   ]
  },
  {
   "cell_type": "markdown",
   "id": "278b9aaf",
   "metadata": {},
   "source": [
    "That's it. Now you can sit back and run the code! \n",
    "#### Initiate"
   ]
  },
  {
   "cell_type": "code",
   "execution_count": 4,
   "id": "4e8105da",
   "metadata": {},
   "outputs": [],
   "source": [
    "# 1 initiate\n",
    "from datetime import datetime\n",
    "import datetime                                               # for timestamp \n",
    "import time                                                   # for timers\n",
    "\n",
    "# start timer\n",
    "tic = time.time()\n",
    "\n",
    "import numpy as np\n",
    "import pandas as pd\n",
    "\n",
    "#import dataset\n",
    "readfile = pd.read_excel('input.xlsx', engine='openpyxl')\n",
    "\n",
    "#create a list of columns\n",
    "cols = list(readfile.columns)\n",
    "\n",
    "#subset 16 survey questions\n",
    "q_start = cols.index(start)\n",
    "q_end = cols.index(end)\n",
    "q_subset = readfile.iloc[:,q_start+1:q_end]\n",
    "\n",
    "#create a list of subset columns\n",
    "q_cols_subset = cols[q_start+1:q_end]"
   ]
  },
  {
   "cell_type": "code",
   "execution_count": 5,
   "id": "9902eb21",
   "metadata": {},
   "outputs": [],
   "source": [
    "# 2 create a placeholder dataframe\n",
    "df0 = pd.DataFrame(columns = ['AcademicYear', 'Class', 'Clerkship'])\n",
    "#df0"
   ]
  },
  {
   "cell_type": "markdown",
   "id": "5b270c7b",
   "metadata": {},
   "source": [
    "#### Individual sites"
   ]
  },
  {
   "cell_type": "code",
   "execution_count": 6,
   "id": "2f9bd7c0",
   "metadata": {},
   "outputs": [],
   "source": [
    "# 3 create a dataframe for stats\n",
    "\n",
    "df1 = pd.DataFrame([])\n",
    "qn=0\n",
    "for j in q_cols_subset:\n",
    "\n",
    "    c = q_subset[j][1:,].value_counts().rename_axis('unique_values').reset_index(name='counts')\n",
    "\n",
    "    \n",
    "    if (qn == set_n):\n",
    "        qn = 1\n",
    "\n",
    "    else:\n",
    "        qn +=1\n",
    "        \n",
    "    c['QN'] = qn\n",
    "\n",
    "    cc = {}\n",
    "    \n",
    "    for i in range(1,6):\n",
    "        if i in list(c.unique_values):\n",
    "            cn = c[c.unique_values == i]['counts']\n",
    "\n",
    "            cc.update(                {\n",
    "                    'C'+str(i):int(cn)\n",
    "                }            )\n",
    "            \n",
    "        #filter out invalid values (not a number between 1-5: Text or other coded value for N/A)\n",
    "        else:\n",
    "            cc.update(                {\n",
    "                    'C'+str(i):0\n",
    "                }              )\n",
    "\n",
    "\n",
    "    dd = pd.DataFrame([cc])\n",
    "    dd['N'] = dd.C1 + dd.C2 + dd.C3 + dd.C4 + dd.C5\n",
    "    dd['Sumproduct'] = dd.C1 * 1 + dd.C2 * 2 + dd.C3 * 3 + dd.C4 * 4 + dd.C5 * 5\n",
    "    dd['Mean'] = (dd.C1 * 1 + dd.C2 * 2 + dd.C3 * 3 + dd.C4 * 4 + dd.C5 * 5)/dd.N\n",
    "    dd['QN']= c['QN']\n",
    "    df1 = pd.concat([df1, dd], axis=0, ignore_index=True)\n",
    "    df1 = df1[['QN','Mean', 'N','Sumproduct']]\n",
    "#df1"
   ]
  },
  {
   "cell_type": "markdown",
   "id": "58a52e2f",
   "metadata": {},
   "source": [
    "#### Overall weighted means"
   ]
  },
  {
   "cell_type": "code",
   "execution_count": 7,
   "id": "074e5b60",
   "metadata": {},
   "outputs": [],
   "source": [
    "# 4 create overall stats\n",
    "df2 = df1.groupby(['QN'], as_index=False).sum()\n",
    "df2['Mean'] = df2['Sumproduct'] / df2['N']\n",
    "df2['Question']=df2['QN']\n",
    "df2 = df2[['Question','Mean', 'N']]\n",
    "#df2"
   ]
  },
  {
   "cell_type": "code",
   "execution_count": 8,
   "id": "f0f70415",
   "metadata": {},
   "outputs": [],
   "source": [
    "# 5 create a dataframe for question\n",
    "#text cell extract\n",
    "\n",
    "sequence2=0\n",
    "q0 = []\n",
    "for l in q_cols_subset:\n",
    "    q_text_q = str(q_subset[l][0])  \n",
    "    q0.append(q_text_q)\n",
    "\n",
    "\n",
    "df3 = pd.DataFrame(q0)\n",
    "df3.columns = ['Question']\n",
    "#df3"
   ]
  },
  {
   "cell_type": "code",
   "execution_count": 9,
   "id": "7d24ee4e",
   "metadata": {},
   "outputs": [],
   "source": [
    "# 5 concat three dataframes\n",
    "df4 = pd.concat([df3, df1[['Mean','N']]], axis=1)\n",
    "df4 = pd.concat([df4,df2], axis=0)\n",
    "df4= pd.concat([df0,df4], axis=1)\n",
    "#df4"
   ]
  },
  {
   "cell_type": "code",
   "execution_count": 10,
   "id": "9c5af06d",
   "metadata": {},
   "outputs": [],
   "source": [
    "# 6 delete meaningless qualitative questions\n",
    "df5 = df4[df4['N'] > 0]\n",
    "\n",
    "# 7 populate columns for AY, Class, Block\n",
    "df5 = df5.assign(AcademicYear = AY)\n",
    "df5 = df5.assign(Class = CO)\n",
    "df5 = df5.assign(Clerkship = Clerks)\n",
    "#df5"
   ]
  },
  {
   "cell_type": "markdown",
   "id": "5be2a4d6",
   "metadata": {},
   "source": [
    "#### Export"
   ]
  },
  {
   "cell_type": "code",
   "execution_count": 11,
   "id": "f7b41e7d",
   "metadata": {},
   "outputs": [],
   "source": [
    "df5.to_excel('output_' + str(datetime.datetime.now().strftime(\"%Y_%m_%d_%H_%M_%S\")) + '.xlsx', index = False)"
   ]
  },
  {
   "cell_type": "code",
   "execution_count": 12,
   "id": "042331d3",
   "metadata": {},
   "outputs": [
    {
     "name": "stdout",
     "output_type": "stream",
     "text": [
      "All tasks completed in 2.95 s.\n"
     ]
    }
   ],
   "source": [
    "# end timer             \n",
    "toc = time.time() - tic\n",
    "print('All tasks completed in %.2f s.' % (toc))"
   ]
  }
 ],
 "metadata": {
  "kernelspec": {
   "display_name": "Python 3 (ipykernel)",
   "language": "python",
   "name": "python3"
  },
  "language_info": {
   "codemirror_mode": {
    "name": "ipython",
    "version": 3
   },
   "file_extension": ".py",
   "mimetype": "text/x-python",
   "name": "python",
   "nbconvert_exporter": "python",
   "pygments_lexer": "ipython3",
   "version": "3.9.12"
  }
 },
 "nbformat": 4,
 "nbformat_minor": 5
}
