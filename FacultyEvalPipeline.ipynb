{
 "cells": [
  {
   "cell_type": "markdown",
   "id": "f8d54b6b",
   "metadata": {},
   "source": [
    "### Input required: Update information"
   ]
  },
  {
   "cell_type": "markdown",
   "id": "d9098976",
   "metadata": {},
   "source": [
    "#### Select columns (exclusive: When start is 1 and end is 5, the applicable range will be 2-4.)\n",
    "Note: quotation marks should be included. Change values inside of the quotes."
   ]
  },
  {
   "cell_type": "code",
   "execution_count": 1,
   "id": "0f44aed0",
   "metadata": {},
   "outputs": [],
   "source": [
    "start = 'Q1.2'\n",
    "end = 'Q83'"
   ]
  },
  {
   "cell_type": "markdown",
   "id": "cb1d4394",
   "metadata": {},
   "source": [
    "#### Fill in correct texts for each column.\n",
    "Note: quotation marks should be included. Change values inside of the quotes."
   ]
  },
  {
   "cell_type": "code",
   "execution_count": 2,
   "id": "8686616d",
   "metadata": {},
   "outputs": [],
   "source": [
    "AY = 'AY22-23'\n",
    "CL = '2025'\n",
    "BL = 'MSK'"
   ]
  },
  {
   "cell_type": "markdown",
   "id": "75265aa8",
   "metadata": {},
   "source": [
    "#### Input a total number of questions/columns per site (for loop purposes). Count all qualitative questions as well.\n",
    "For example, in this case, we have a total of 43 questions, but will have only 29 quantitiave questions printed in the end."
   ]
  },
  {
   "cell_type": "code",
   "execution_count": 3,
   "id": "a4eda38c",
   "metadata": {},
   "outputs": [],
   "source": [
    "set_n = 43"
   ]
  },
  {
   "cell_type": "markdown",
   "id": "a51f856b",
   "metadata": {},
   "source": [
    "That's it. Now you can sit back and run the code! \n",
    "#### Initiate"
   ]
  },
  {
   "cell_type": "code",
   "execution_count": 4,
   "id": "2a85b5ec",
   "metadata": {},
   "outputs": [],
   "source": [
    "# 1 initiate\n",
    "from datetime import datetime\n",
    "import datetime                                               # for timestamp \n",
    "import time                                                   # for timers\n",
    "\n",
    "# start timer\n",
    "tic = time.time()\n",
    "\n",
    "import numpy as np\n",
    "import pandas as pd\n",
    "\n",
    "#import dataset\n",
    "readfile = pd.read_excel('input.xlsx', engine='openpyxl')\n",
    "\n",
    "#create a list of columns\n",
    "cols = list(readfile.columns)\n",
    "\n",
    "#subset 16 survey questions\n",
    "q_start = cols.index(start)\n",
    "q_end = cols.index(end)\n",
    "q_subset = readfile.iloc[:,q_start+1:q_end]\n",
    "\n",
    "#create a list of subset columns\n",
    "q_cols_subset = cols[q_start+1:q_end]"
   ]
  },
  {
   "cell_type": "code",
   "execution_count": 5,
   "id": "9902eb21",
   "metadata": {},
   "outputs": [],
   "source": [
    "# 2 create a placeholder dataframe\n",
    "df0 = pd.DataFrame(columns = ['AcademicYear', 'Class', 'Block'])\n",
    "\n",
    "#df0"
   ]
  },
  {
   "cell_type": "code",
   "execution_count": 6,
   "id": "54b2b163",
   "metadata": {},
   "outputs": [],
   "source": [
    "# 2 create a dataframe for faculty name columns\n",
    "\n",
    "sequence1 = 0\n",
    "Faculty_FirstName = []\n",
    "Faculty_LastName = []\n",
    "\n",
    "# extract from the first question & repeat 17 times\n",
    "for k in q_cols_subset:\n",
    "    sequence1 = sequence1 + 1\n",
    "    if (sequence1%17 == 1):            \n",
    "        q_text_f = str(q_subset[k][0])\n",
    "\n",
    "\n",
    "\n",
    "        sub1 = \"Dr.\"\n",
    "        sub2 = \"</\"\n",
    "\n",
    "        # getting index of substrings\n",
    "        idx1 = q_text_f.index(sub1)\n",
    "        idx2 = q_text_f.index(sub2)\n",
    "\n",
    "        res = ''\n",
    "        # getting elements in between\n",
    "        for idx in range(idx1 + len(sub1) + 1, idx2):\n",
    "            res = res + q_text_f[idx]\n",
    "\n",
    "        # result\n",
    "        Faculty_FullName = res.split()\n",
    "        Faculty_FirstName.append(str(Faculty_FullName[0]))\n",
    "        Faculty_LastName.append(str(Faculty_FullName[1]))\n",
    "\n",
    "    else:\n",
    "        Faculty_FirstName.append(str(Faculty_FullName[0]))\n",
    "        Faculty_LastName.append(str(Faculty_FullName[1]))\n",
    "        continue\n",
    "\n",
    "df1 = pd.DataFrame(list(zip(Faculty_FirstName, Faculty_LastName)),\n",
    "       columns =['Faculty_FirstName', 'Faculty_LastName'])\n",
    "\n",
    "#df1"
   ]
  },
  {
   "cell_type": "code",
   "execution_count": 7,
   "id": "2f9bd7c0",
   "metadata": {},
   "outputs": [],
   "source": [
    "# 3 create a dataframe for stats\n",
    "\n",
    "df2 = pd.DataFrame([])\n",
    "for j in q_cols_subset:\n",
    "\n",
    "    #counts & response rates\n",
    "    c = q_subset[j][1:,].value_counts().rename_axis('unique_values').reset_index(name='counts')\n",
    "    c['pct'] = c.counts / c.counts.sum()\n",
    "\n",
    "    cc = {}\n",
    "    for i in range(1,6):\n",
    "        if i in list(c.unique_values):\n",
    "            cn = c[c.unique_values == i]['counts']\n",
    "            pn = c[c.unique_values == i]['pct']\n",
    "            cc.update(                {\n",
    "                    'C'+str(i):int(cn), 'R'+str(i):float(pn)\n",
    "                }            )\n",
    "            \n",
    "        else:\n",
    "            cc.update(                {\n",
    "                    'C'+str(i):0, 'R'+str(i):0\n",
    "                }              )\n",
    "\n",
    "\n",
    "    dd = pd.DataFrame([cc])\n",
    "    dd['A_SA'] = dd.R4 + dd.R5\n",
    "    dd['N'] = dd.C1 + dd.C2 + dd.C3 + dd.C4 + dd.C5\n",
    "    dd['Mean'] = (dd.C1 * 1 + dd.C2 * 2 + dd.C3 * 3 + dd.C4 * 4 + dd.C5 * 5)/dd.N\n",
    "    df2 = pd.concat([df2, dd], axis=0, ignore_index=True)\n",
    "    df2 = df2[['R1', 'R2', 'R3', 'R4', 'R5', 'A_SA', 'Mean', 'N', 'C1', 'C2', 'C3', 'C4', 'C5']]\n",
    "\n",
    "#df2"
   ]
  },
  {
   "cell_type": "code",
   "execution_count": 8,
   "id": "f0f70415",
   "metadata": {},
   "outputs": [],
   "source": [
    "# 4 create a dataframe for question\n",
    "#text cell extract\n",
    "\n",
    "\n",
    "sequence2=0\n",
    "q0 = []\n",
    "for l in q_cols_subset:\n",
    "    if (sequence2 < 17):        \n",
    "        sequence2 = sequence2 + 1\n",
    "        q_text_q = str(q_subset[l][0])  \n",
    "        q0.append(q_text_q.split(\"/> - \", 1)[1])\n",
    "    else:\n",
    "        break\n",
    "\n",
    "q1 = pd.DataFrame(q0)\n",
    "\n",
    "count = 0\n",
    "df3 = pd.DataFrame([])\n",
    "while (count < (len(q_cols_subset)/17)):   \n",
    "    count = count + 1\n",
    "    df3 = pd.concat([df3, q1], axis=0, ignore_index=True)\n",
    "\n",
    "df3.columns =['Question']\n",
    "\n",
    "#df3"
   ]
  },
  {
   "cell_type": "code",
   "execution_count": 9,
   "id": "7d24ee4e",
   "metadata": {},
   "outputs": [],
   "source": [
    "# 5 concat three dataframes\n",
    "df4 = pd.concat([df0, df3, df1, df2], axis=1)\n",
    "\n",
    "#df4"
   ]
  },
  {
   "cell_type": "code",
   "execution_count": 10,
   "id": "9c5af06d",
   "metadata": {},
   "outputs": [],
   "source": [
    "# 6 delete the 17th qualitative questions\n",
    "df5 = df4[df4['N'] > 0]\n",
    "\n",
    "# 7 populate columns for AY, Class, Block\n",
    "df5 = df5.assign(AcademicYear = AY)\n",
    "df5 = df5.assign(Class = CL)\n",
    "df5 = df5.assign(Block = BL)\n",
    "\n",
    "#df5"
   ]
  },
  {
   "cell_type": "code",
   "execution_count": 11,
   "id": "7a66a522",
   "metadata": {},
   "outputs": [],
   "source": [
    "#### Export"
   ]
  },
  {
   "cell_type": "code",
   "execution_count": 12,
   "id": "f7b41e7d",
   "metadata": {},
   "outputs": [],
   "source": [
    "df5.to_excel('output_' + str(datetime.datetime.now().strftime(\"%Y_%m_%d_%H_%M_%S\")) + '.xlsx', index = False)"
   ]
  },
  {
   "cell_type": "code",
   "execution_count": 13,
   "id": "042331d3",
   "metadata": {},
   "outputs": [
    {
     "name": "stdout",
     "output_type": "stream",
     "text": [
      "All tasks completed in 2.16 s.\n"
     ]
    }
   ],
   "source": [
    "# end timer             \n",
    "toc = time.time() - tic\n",
    "print('All tasks completed in %.2f s.' % (toc))"
   ]
  }
 ],
 "metadata": {
  "kernelspec": {
   "display_name": "Python 3 (ipykernel)",
   "language": "python",
   "name": "python3"
  },
  "language_info": {
   "codemirror_mode": {
    "name": "ipython",
    "version": 3
   },
   "file_extension": ".py",
   "mimetype": "text/x-python",
   "name": "python",
   "nbconvert_exporter": "python",
   "pygments_lexer": "ipython3",
   "version": "3.9.12"
  }
 },
 "nbformat": 4,
 "nbformat_minor": 5
}
